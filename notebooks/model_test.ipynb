{
 "cells": [
  {
   "cell_type": "markdown",
   "metadata": {},
   "source": [
    "# Eine Notebook zur Modell Entwicklung\n",
    "\n",
    "In einem solchen Notebook könnt ihr Code schreiben, ausführen und einfach texten. Das ist hilfreich während der Entwicklung. \n",
    "Unten nur ein paar Beispiele wie man das verwenden kann."
   ]
  },
  {
   "cell_type": "markdown",
   "metadata": {},
   "source": [
    "## Importe \n",
    "\n",
    "Zunächst einmal die relevanten Pakete importieren. Dazu gehört auch euer Skript, damit wir von dort die Klassen verwenden können.\n",
    "\n",
    "Dazu müssen wir erstmal sicherstellen, dass wir den Grundordner eures Projekts als Arbeitsverzeichnis nehmen und nicht den Ordner in dem dieses Notebook liegt. Also gehen wir mit `os.chdir(\"..\")` einen Ordner nach oben.\n",
    "\n",
    "Dann fügen wir den Ordner `python` zum Suchpfad hinzu, damit wir die Skripte, die dort drinnen liegen, direkt ansprechen und importieren können. Das geht mit `sys.path.insert(0, './python')`"
   ]
  },
  {
   "cell_type": "code",
   "execution_count": 2,
   "metadata": {},
   "outputs": [
    {
     "name": "stdout",
     "output_type": "stream",
     "text": [
      "Current working directory:  C:\\Users\\sarah2\\Desktop\\WiSe 19_20\\extern_NPÖ_Zertifikat_Complexity\\Prüfungsleistung\\econ-reproduction-master\\aktuelle_Py\\repro_neu\n"
     ]
    },
    {
     "ename": "TypeError",
     "evalue": "unsupported operand type(s) for |: 'str' and 'bool'",
     "output_type": "error",
     "traceback": [
      "\u001b[1;31m---------------------------------------------------------------------------\u001b[0m",
      "\u001b[1;31mTypeError\u001b[0m                                 Traceback (most recent call last)",
      "\u001b[1;32m<ipython-input-2-0a3cc6881c5b>\u001b[0m in \u001b[0;36m<module>\u001b[1;34m\u001b[0m\n\u001b[0;32m      8\u001b[0m \u001b[1;33m\u001b[0m\u001b[0m\n\u001b[0;32m      9\u001b[0m \u001b[1;32mimport\u001b[0m \u001b[0mAgent_easy\u001b[0m\u001b[1;33m\u001b[0m\u001b[1;33m\u001b[0m\u001b[0m\n\u001b[1;32m---> 10\u001b[1;33m \u001b[1;32mimport\u001b[0m \u001b[0mModel_easy\u001b[0m\u001b[1;33m\u001b[0m\u001b[1;33m\u001b[0m\u001b[0m\n\u001b[0m",
      "\u001b[1;32m~\\Desktop\\WiSe 19_20\\extern_NPÖ_Zertifikat_Complexity\\Prüfungsleistung\\econ-reproduction-master\\aktuelle_Py\\repro_neu\\python\\Model_easy.py\u001b[0m in \u001b[0;36m<module>\u001b[1;34m\u001b[0m\n\u001b[0;32m      7\u001b[0m \"\"\"\n\u001b[0;32m      8\u001b[0m \u001b[1;32mimport\u001b[0m \u001b[0mos\u001b[0m\u001b[1;33m\u001b[0m\u001b[1;33m\u001b[0m\u001b[0m\n\u001b[1;32m----> 9\u001b[1;33m \u001b[1;32mif\u001b[0m \u001b[0mos\u001b[0m\u001b[1;33m.\u001b[0m\u001b[0mgetcwd\u001b[0m\u001b[1;33m(\u001b[0m\u001b[1;33m)\u001b[0m\u001b[1;33m[\u001b[0m\u001b[1;33m-\u001b[0m\u001b[1;36m6\u001b[0m\u001b[1;33m]\u001b[0m\u001b[1;33m==\u001b[0m\u001b[1;34m\"python\"\u001b[0m \u001b[1;33m|\u001b[0m \u001b[1;33m(\u001b[0m\u001b[0mos\u001b[0m\u001b[1;33m.\u001b[0m\u001b[0mgetcwd\u001b[0m\u001b[1;33m(\u001b[0m\u001b[1;33m)\u001b[0m\u001b[1;33m[\u001b[0m\u001b[1;33m-\u001b[0m\u001b[1;36m9\u001b[0m\u001b[1;33m]\u001b[0m\u001b[1;33m==\u001b[0m\u001b[1;34m\"notebook\"\u001b[0m\u001b[1;33m)\u001b[0m\u001b[1;33m:\u001b[0m \u001b[1;31m#letzteres nur wenn ich in Jupyter bin\u001b[0m\u001b[1;33m\u001b[0m\u001b[1;33m\u001b[0m\u001b[0m\n\u001b[0m\u001b[0;32m     10\u001b[0m     \u001b[0mos\u001b[0m\u001b[1;33m.\u001b[0m\u001b[0mchdir\u001b[0m \u001b[1;33m(\u001b[0m\u001b[1;34m\"..\"\u001b[0m\u001b[1;33m)\u001b[0m\u001b[1;33m\u001b[0m\u001b[1;33m\u001b[0m\u001b[0m\n\u001b[0;32m     11\u001b[0m \u001b[1;32mimport\u001b[0m \u001b[0msys\u001b[0m\u001b[1;33m;\u001b[0m \u001b[0msys\u001b[0m\u001b[1;33m.\u001b[0m\u001b[0mpath\u001b[0m\u001b[1;33m.\u001b[0m\u001b[0minsert\u001b[0m\u001b[1;33m(\u001b[0m\u001b[1;36m0\u001b[0m\u001b[1;33m,\u001b[0m \u001b[1;34m'./python'\u001b[0m\u001b[1;33m)\u001b[0m\u001b[1;33m\u001b[0m\u001b[1;33m\u001b[0m\u001b[0m\n",
      "\u001b[1;31mTypeError\u001b[0m: unsupported operand type(s) for |: 'str' and 'bool'"
     ]
    }
   ],
   "source": [
    "import os\n",
    "if (os.getcwd()[-6:] == \"python\") | (os.getcwd()[-9:] == \"notebooks\"):\n",
    "    os.chdir(\"..\")\n",
    "\n",
    "print(\"Current working directory: \", os.getcwd())\n",
    "import sys; sys.path.insert(0, './python')\n",
    "import numpy as np\n",
    "\n",
    "import Agent_easy\n",
    "import Model_easy"
   ]
  },
  {
   "cell_type": "code",
   "execution_count": 2,
   "metadata": {},
   "outputs": [],
   "source": []
  },
  {
   "cell_type": "markdown",
   "metadata": {},
   "source": [
    "## Code Experimente\n",
    "\n",
    "Jetzt können wir den Code aus eurem Skript aufrufen und damit rumprobieren:"
   ]
  },
  {
   "cell_type": "code",
   "execution_count": 44,
   "metadata": {},
   "outputs": [
    {
     "name": "stdout",
     "output_type": "stream",
     "text": [
      "C:\\Users\\sarah2\\Desktop\\WiSe 19_20\\extern_NPÖ_Zertifikat_Complexity\\Prüfungsleistung\\econ-reproduction-master\\aktuelle_Py\\repro_neu\n"
     ]
    }
   ],
   "source": [
    "import os\n",
    "if (os.getcwd()[-6:] == \"python\") | (os.getcwd()[-9:] == \"notebooks\"):\n",
    "    os.chdir(\"..\")\n",
    "print(os.getcwd())\n",
    "import sys; sys.path.insert(0, 'python')\n",
    "\n",
    "\n",
    "from Agent_EASY import Agent\n",
    "import matplotlib.pyplot as plt\n",
    "\n",
    "\n",
    "class Academic_Institutions: \n",
    "   \n",
    "    def __init__(self, academic_power_Mainstream, academic_power_Heterodoxy): \n",
    "            self.academic_power = {\n",
    "                    \"Mainstream\" : academic_power_Mainstream, \n",
    "                    \"Heterodoxy\" : academic_power_Heterodoxy}\n",
    "            self.networkvalue = {\n",
    "                    \"Mainstream\" : 0.00, \n",
    "                    \"Heterodoxy\" : 0.00}\n",
    "            self.agents = []\n",
    "            self.update_network_value()\n",
    "            \n",
    "    def add_agent(self, agent):\n",
    "        self.agents.append(agent)\n",
    "    \n",
    "    def update_academic_power(self):\n",
    "        counter = 0\n",
    "        \n",
    "        for a in self.agents: \n",
    "            if a.current_paradigm == \"Mainstream\": \n",
    "                    counter +=1\n",
    "        share = counter/len(self.agents) \n",
    "        self.academic_power[\"Mainstream\"] = share\n",
    "        self.academic_power[\"Heterodoxy\"] = 1 - share\n",
    "        \n",
    "    def update_network_value(self):\n",
    "        \"\"\"\n",
    "        Networkvalue of paradigm gets calculated, new network value gets calculated \n",
    "        \"\"\"\n",
    "        for k in self.academic_power:\n",
    "            self.networkvalue[k] = self.academic_power[k]**4\n",
    "            \n",
    "class Model: \n",
    "      \n",
    "    def __init__(self, academic_power_Mainstream, academic_power_Heterodoxy):\n",
    "        self.institution = Academic_Institutions(academic_power_Mainstream, academic_power_Heterodoxy)\n",
    "        self.powerDistribution = []\n",
    "        \n",
    "    def timestep(self):\n",
    "        for i in range(10): \n",
    "            Agent(self.institution) \n",
    "        self.institution.update_academic_power()\n",
    "        self.institution.update_network_value()\n",
    "        self.powerDistribution.append(self.institution.academic_power[\"Mainstream\"])\n",
    "    def run(self, timesteps): \n",
    "        for t in range(timesteps): \n",
    "           # print(t)\n",
    "            self.timestep()\n"
   ]
  },
  {
   "cell_type": "code",
   "execution_count": null,
   "metadata": {},
   "outputs": [],
   "source": []
  }
 ],
 "metadata": {
  "file_extension": ".py",
  "kernelspec": {
   "display_name": "Python 3",
   "language": "python",
   "name": "python3"
  },
  "language_info": {
   "codemirror_mode": {
    "name": "ipython",
    "version": 3
   },
   "file_extension": ".py",
   "mimetype": "text/x-python",
   "name": "python",
   "nbconvert_exporter": "python",
   "pygments_lexer": "ipython3",
   "version": "3.7.6"
  },
  "mimetype": "text/x-python",
  "name": "python",
  "npconvert_exporter": "python",
  "pygments_lexer": "ipython3",
  "version": 3
 },
 "nbformat": 4,
 "nbformat_minor": 2
}
